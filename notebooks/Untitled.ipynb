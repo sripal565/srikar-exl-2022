{
 "cells": [
  {
   "cell_type": "code",
   "execution_count": 2,
   "id": "be16adbe",
   "metadata": {},
   "outputs": [],
   "source": [
    "import pandas as pd"
   ]
  },
  {
   "cell_type": "code",
   "execution_count": 3,
   "id": "5df6ae5f",
   "metadata": {},
   "outputs": [],
   "source": [
    "diversity_data = pd.read_csv('../data/stem_2021.csv')"
   ]
  },
  {
   "cell_type": "code",
   "execution_count": 4,
   "id": "f62a1b81",
   "metadata": {},
   "outputs": [
    {
     "data": {
      "text/html": [
       "<div>\n",
       "<style scoped>\n",
       "    .dataframe tbody tr th:only-of-type {\n",
       "        vertical-align: middle;\n",
       "    }\n",
       "\n",
       "    .dataframe tbody tr th {\n",
       "        vertical-align: top;\n",
       "    }\n",
       "\n",
       "    .dataframe thead th {\n",
       "        text-align: right;\n",
       "    }\n",
       "</style>\n",
       "<table border=\"1\" class=\"dataframe\">\n",
       "  <thead>\n",
       "    <tr style=\"text-align: right;\">\n",
       "      <th></th>\n",
       "      <th>area</th>\n",
       "      <th>area_name</th>\n",
       "      <th>naics</th>\n",
       "      <th>naics_name</th>\n",
       "      <th>STEM_group</th>\n",
       "      <th>tot_emp</th>\n",
       "      <th>pct_total</th>\n",
       "      <th>emp_prse</th>\n",
       "      <th>h_mean</th>\n",
       "      <th>a_mean</th>\n",
       "      <th>...</th>\n",
       "      <th>h_pct10</th>\n",
       "      <th>h_pct25</th>\n",
       "      <th>h_median</th>\n",
       "      <th>h_pct75</th>\n",
       "      <th>h_pct90</th>\n",
       "      <th>a_pct10</th>\n",
       "      <th>a_pct25</th>\n",
       "      <th>a_median</th>\n",
       "      <th>a_pct75</th>\n",
       "      <th>a_pct90</th>\n",
       "    </tr>\n",
       "  </thead>\n",
       "  <tbody>\n",
       "    <tr>\n",
       "      <th>0</th>\n",
       "      <td>99</td>\n",
       "      <td>U.S.</td>\n",
       "      <td>0</td>\n",
       "      <td>Cross-industry</td>\n",
       "      <td>STEM</td>\n",
       "      <td>9,263,190</td>\n",
       "      <td>6.6</td>\n",
       "      <td>0.3</td>\n",
       "      <td>48.51</td>\n",
       "      <td>100,900</td>\n",
       "      <td>...</td>\n",
       "      <td>22.77</td>\n",
       "      <td>29.89</td>\n",
       "      <td>45.87</td>\n",
       "      <td>61.56</td>\n",
       "      <td>79.39</td>\n",
       "      <td>47,370</td>\n",
       "      <td>62,170</td>\n",
       "      <td>95,420</td>\n",
       "      <td>128,050</td>\n",
       "      <td>165,130</td>\n",
       "    </tr>\n",
       "    <tr>\n",
       "      <th>1</th>\n",
       "      <td>99</td>\n",
       "      <td>U.S.</td>\n",
       "      <td>0</td>\n",
       "      <td>Cross-industry</td>\n",
       "      <td>nonSTEM</td>\n",
       "      <td>131,623,120</td>\n",
       "      <td>93.4</td>\n",
       "      <td>0.0</td>\n",
       "      <td>26.57</td>\n",
       "      <td>55,260</td>\n",
       "      <td>...</td>\n",
       "      <td>11.40</td>\n",
       "      <td>14.32</td>\n",
       "      <td>19.29</td>\n",
       "      <td>29.89</td>\n",
       "      <td>47.70</td>\n",
       "      <td>23,700</td>\n",
       "      <td>29,780</td>\n",
       "      <td>40,120</td>\n",
       "      <td>62,160</td>\n",
       "      <td>99,220</td>\n",
       "    </tr>\n",
       "  </tbody>\n",
       "</table>\n",
       "<p>2 rows × 21 columns</p>\n",
       "</div>"
      ],
      "text/plain": [
       "   area area_name  naics      naics_name STEM_group      tot_emp  pct_total   \\\n",
       "0    99      U.S.      0  Cross-industry       STEM    9,263,190         6.6   \n",
       "1    99      U.S.      0  Cross-industry    nonSTEM  131,623,120        93.4   \n",
       "\n",
       "   emp_prse  h_mean   a_mean  ...  h_pct10  h_pct25  h_median  h_pct75  \\\n",
       "0       0.3   48.51  100,900  ...    22.77    29.89     45.87    61.56   \n",
       "1       0.0   26.57   55,260  ...    11.40    14.32     19.29    29.89   \n",
       "\n",
       "   h_pct90  a_pct10 a_pct25 a_median  a_pct75  a_pct90  \n",
       "0    79.39   47,370  62,170   95,420  128,050  165,130  \n",
       "1    47.70   23,700  29,780   40,120   62,160   99,220  \n",
       "\n",
       "[2 rows x 21 columns]"
      ]
     },
     "execution_count": 4,
     "metadata": {},
     "output_type": "execute_result"
    }
   ],
   "source": [
    "diversity_data.head()"
   ]
  },
  {
   "cell_type": "code",
   "execution_count": null,
   "id": "8a760531",
   "metadata": {},
   "outputs": [],
   "source": []
  }
 ],
 "metadata": {
  "kernelspec": {
   "display_name": "Python 3 (ipykernel)",
   "language": "python",
   "name": "python3"
  },
  "language_info": {
   "codemirror_mode": {
    "name": "ipython",
    "version": 3
   },
   "file_extension": ".py",
   "mimetype": "text/x-python",
   "name": "python",
   "nbconvert_exporter": "python",
   "pygments_lexer": "ipython3",
   "version": "3.8.13"
  }
 },
 "nbformat": 4,
 "nbformat_minor": 5
}
